{
 "cells": [
  {
   "cell_type": "markdown",
   "metadata": {},
   "source": [
    "# Tutorial On Python 3   "
   ]
  },
  {
   "cell_type": "markdown",
   "metadata": {},
   "source": [
    "# Python Loop"
   ]
  },
  {
   "cell_type": "markdown",
   "metadata": {},
   "source": [
    "# The while statement\n",
    "The while loop in Python is used to iterate over a block of code as long as the test expression (condition) is true.\n",
    "\n",
    "Syntax of while Loop in Python\n",
    "       <div class=\"alert alert-block alert-info\">\n",
    "       <font color=red>while test_expression:</font><br>\n",
    "        <font color=red>&nbsp;&nbsp;&nbsp;&nbsp;&nbsp; Body of while</font>\n",
    "        </div>"
   ]
  },
  {
   "cell_type": "code",
   "execution_count": null,
   "metadata": {},
   "outputs": [],
   "source": [
    "# Example 1\n",
    "#initialize counter\n",
    "i=1\n",
    "while i<=10:\n",
    "    print(i,end=\" \")\n",
    "    i+=1"
   ]
  },
  {
   "cell_type": "markdown",
   "metadata": {},
   "source": [
    "# while loop with else\n",
    "A loop can have an optional <b>else</b> block as well. The else part is executed if the items in the sequence used in for loop exhausts.\n",
    "\n",
    "<font color=red>The <b>else</b> part is executed if the condition in the while loop evaluates to <b>False</b>.\n",
    "\n",
    "The <b>while loop can be terminated with a break statement</b>. In such case, the else part is <b>ignored</b>. </font>\n",
    "\n",
    "<font color = green>Hence, <b>a while loop's else part runs if no break occurs and the condition is false.</b></font>"
   ]
  },
  {
   "cell_type": "code",
   "execution_count": null,
   "metadata": {},
   "outputs": [],
   "source": [
    "# Example to illustrate\n",
    "# the use of else statement\n",
    "# with the while loop\n",
    "counter=0\n",
    "while counter<3:\n",
    "    print(\"Inside Loop\")\n",
    "    counter=counter+1\n",
    "else:\n",
    "    print('Outside Loop')"
   ]
  },
  {
   "cell_type": "code",
   "execution_count": null,
   "metadata": {},
   "outputs": [],
   "source": [
    "# Example to illustrate\n",
    "# the use of else statement and break statement\n",
    "# with the while loop\n",
    "counter=0\n",
    "while counter<3:\n",
    "    if counter==1:\n",
    "        break\n",
    "    print(\"Inside Loop\")\n",
    "    counter=counter+1\n",
    "else:\n",
    "    print('Outside Loop')"
   ]
  },
  {
   "cell_type": "markdown",
   "metadata": {},
   "source": [
    "# The for statement\n",
    "The for loop in Python is used to iterate over a sequence <b>(list, tuple, string) or other iterable objects</b>. \n",
    "\n",
    "Iterating over a sequence is called traversal.\n",
    "\n",
    "Syntax of while Loop in Python\n",
    "       <div class=\"alert alert-block alert-info\">\n",
    "       <font color=red>for val in sequence:</font><br>\n",
    "        <font color=red>&nbsp;&nbsp;&nbsp;&nbsp;&nbsp; Body of for</font>\n",
    "        </div>\n",
    "\n",
    "Here, <b>val is the variable</b> that takes the value of the item inside the sequence on each iteration."
   ]
  },
  {
   "cell_type": "code",
   "execution_count": null,
   "metadata": {},
   "outputs": [],
   "source": [
    "#Example-1\n",
    "for i in range(1,10):\n",
    "    print(i,end=\" \")"
   ]
  },
  {
   "cell_type": "code",
   "execution_count": null,
   "metadata": {},
   "outputs": [],
   "source": [
    "#Example-2\n",
    "for i in 'abes':\n",
    "    print(i,sep=\"\")"
   ]
  },
  {
   "cell_type": "markdown",
   "metadata": {},
   "source": [
    "# The range() function\n",
    "\n",
    "We can generate a <b>sequence of numbers using range() function</b>. \n",
    "\n",
    "- range(10) will generate numbers from 0 to 9 (10 numbers)\n",
    "- We can also define the start, stop and step size as range(start,stop,step size). \n",
    "- step size defaults to 1 if not provided."
   ]
  },
  {
   "cell_type": "code",
   "execution_count": null,
   "metadata": {},
   "outputs": [],
   "source": [
    "#The following example will clarify this.\n",
    "# Output: range(0, 150)\n",
    "range(150,2)"
   ]
  },
  {
   "cell_type": "code",
   "execution_count": null,
   "metadata": {},
   "outputs": [],
   "source": [
    "#To force this function to output all the items, we can use the function list().\n",
    "# Output: [0, 1, 2, 3, 4, 5, 6, 7, 8, 9]\n",
    "print(list(range(10)))"
   ]
  },
  {
   "cell_type": "code",
   "execution_count": null,
   "metadata": {},
   "outputs": [],
   "source": [
    "# Output: [2, 3, 4, 5, 6, 7]\n",
    "print(list(range(2,8)))"
   ]
  },
  {
   "cell_type": "code",
   "execution_count": null,
   "metadata": {},
   "outputs": [],
   "source": [
    "# Output: [2, 5, 8, 11, 14, 17]\n",
    "print(list(range(2,18,3))) "
   ]
  },
  {
   "cell_type": "code",
   "execution_count": null,
   "metadata": {},
   "outputs": [],
   "source": [
    "#Program to Print Table of 2\n",
    "for i in range(1,11):\n",
    "    print(2,'X',i,'=',2*i)"
   ]
  },
  {
   "cell_type": "markdown",
   "metadata": {},
   "source": [
    "# for loop with else\n",
    "Same concept as while with else"
   ]
  },
  {
   "cell_type": "code",
   "execution_count": null,
   "metadata": {},
   "outputs": [],
   "source": [
    "for i in range(1,6):\n",
    "    print(i,end=' ')\n",
    "else:\n",
    "    print(\"Outside for loop\")"
   ]
  },
  {
   "cell_type": "markdown",
   "metadata": {},
   "source": [
    "# Example"
   ]
  },
  {
   "cell_type": "code",
   "execution_count": null,
   "metadata": {},
   "outputs": [],
   "source": [
    "#Factorial of a given no\n",
    "n=int(input(\"Enter the No : \"))\n",
    "f=1\n",
    "i=1\n",
    "while i<=n:\n",
    "    f=f*i \n",
    "    i+=1\n",
    "print(f)"
   ]
  },
  {
   "cell_type": "code",
   "execution_count": null,
   "metadata": {},
   "outputs": [],
   "source": [
    "#Count the number of digit in a given number\n"
   ]
  },
  {
   "cell_type": "markdown",
   "metadata": {},
   "source": [
    "# Nested Loop\n",
    "\n",
    "- Python programming language allows to use one loop inside another loop.\n",
    "\n",
    "<h2>Syntax</h2>\n",
    "<pre class=\"result notranslate\">for iterating_var in sequence:\n",
    "   for iterating_var in sequence:\n",
    "      statements(s)\n",
    "   statements(s)\n",
    "</pre>\n",
    "<p>The syntax for a&nbsp;<strong>nested while loop</strong>&nbsp;statement in Python programming language is as follows &minus;</p>\n",
    "<pre class=\"result notranslate\">while expression:\n",
    "   while expression:\n",
    "      statement(s)\n",
    "   statement(s)</pre>\n",
    "   \n",
    "### A final note on loop nesting is that you can put any type of loop inside of any other type of loop. For example a for loop can be inside a while loop or vice versa."
   ]
  },
  {
   "cell_type": "code",
   "execution_count": null,
   "metadata": {},
   "outputs": [],
   "source": [
    "#Example Print floyd Trinangle using for loop\n",
    "#1\n",
    "#2 3\n",
    "#4 5 6\n",
    "#7 8 9 10\n",
    "n=4\n",
    "i=1\n",
    "for row in range(1,n+1):  #(1,5)=3\n",
    "    for column in range(1,row+1): (1,4)=>1 2 3\n",
    "        print(i,end=\" \")\n",
    "        i+=1\n",
    "    print()    "
   ]
  },
  {
   "cell_type": "code",
   "execution_count": null,
   "metadata": {},
   "outputs": [],
   "source": [
    "#Example Print floyd Trinangle using while loop\n",
    "n=4\n",
    "i=1\n",
    "for row in range(1,n+1):\n",
    "    col=1\n",
    "    while col<=row: \n",
    "        print(i,end=\" \")\n",
    "        i+=1\n",
    "        col+=1\n",
    "    print()"
   ]
  },
  {
   "cell_type": "markdown",
   "metadata": {},
   "source": [
    "# H.W - Example Print floyd Trinangle using for and while loop\n"
   ]
  },
  {
   "cell_type": "markdown",
   "metadata": {},
   "source": [
    "# break Statement\n",
    "\n",
    "- The break is a keyword in python which is used to bring the program control out of the loop. \n",
    "\n",
    "- The break statement breaks the loops one by one, i.e., in the case of nested loops, it breaks the inner loop first and then proceeds to outer loops.\n",
    "\n",
    "### The break is commonly used in the cases where we need to break the loop for a given condition."
   ]
  },
  {
   "cell_type": "code",
   "execution_count": null,
   "metadata": {},
   "outputs": [],
   "source": [
    "#Example-1- Below loop will break/terminate when i==5 so it print 1 to 4\n"
   ]
  },
  {
   "cell_type": "code",
   "execution_count": null,
   "metadata": {
    "scrolled": true
   },
   "outputs": [],
   "source": [
    "#Example-2 -- WAP to input a number and print it is prime or not \n"
   ]
  },
  {
   "cell_type": "markdown",
   "metadata": {},
   "source": [
    "# continue Statement\n",
    "\n",
    "- The continue statement in python is used to bring the program control to the beginning of the loop. \n",
    "\n",
    "- The continue statement skips the remaining lines of code inside the loop and start with the next iteration. \n",
    "\n",
    "- It is mainly used for a particular condition inside the loop so that we can skip some specific code for a particular condition."
   ]
  },
  {
   "cell_type": "code",
   "execution_count": null,
   "metadata": {},
   "outputs": [],
   "source": [
    "#starting a loop from 1 to 10  \n"
   ]
  },
  {
   "cell_type": "markdown",
   "metadata": {},
   "source": [
    "# pass Statement\n",
    "\n",
    "- The pass statement is a null operation since nothing happens when it is executed. \n",
    "\n",
    "- It is used in the cases where a statement is syntactically needed but we don't want to use any executable statement at its place."
   ]
  },
  {
   "cell_type": "code",
   "execution_count": null,
   "metadata": {},
   "outputs": [],
   "source": [
    "#Example\n",
    "# Count the number of consonant in a given string\n"
   ]
  },
  {
   "cell_type": "code",
   "execution_count": null,
   "metadata": {},
   "outputs": [],
   "source": [
    "#Example \n"
   ]
  },
  {
   "cell_type": "markdown",
   "metadata": {},
   "source": [
    "# Programming Problem"
   ]
  },
  {
   "cell_type": "markdown",
   "metadata": {},
   "source": [
    "<img src=\"loop.png\" ></img>"
   ]
  },
  {
   "attachments": {
    "image.png": {
     "image/png": "[encoded data removed]"
    }
   },
   "cell_type": "markdown",
   "metadata": {},
   "source": [
    "![image.png](attachment:image.png)"
   ]
  },
  {
   "cell_type": "code",
   "execution_count": null,
   "metadata": {},
   "outputs": [],
   "source": []
  }
 ],
 "metadata": {
  "kernelspec": {
   "display_name": "Python 3 (ipykernel)",
   "language": "python",
   "name": "python3"
  },
  "language_info": {
   "codemirror_mode": {
    "name": "ipython",
    "version": 3
   },
   "file_extension": ".py",
   "mimetype": "text/x-python",
   "name": "python",
   "nbconvert_exporter": "python",
   "pygments_lexer": "ipython3",
   "version": "3.7.4"
  }
 },
 "nbformat": 4,
 "nbformat_minor": 2
}
