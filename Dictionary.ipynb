{
 "cells": [
  {
   "cell_type": "markdown",
   "metadata": {},
   "source": [
    "### Dictionary "
   ]
  },
  {
   "cell_type": "markdown",
   "metadata": {},
   "source": [
    "- A dictionary in python is a collection of items accessed by a specific key rather than by index.\n",
    "- Imagine a dictionary in the real world, when you need to look up the meaning of the word, you try to find the meaning using the workd itself not the possbile index of the word.\n",
    "- Python dictionaries works with the same concept.\n",
    "- Elements are in the form of key:value pair"
   ]
  },
  {
   "cell_type": "markdown",
   "metadata": {},
   "source": [
    "- A dictionary is a collection which is unordered, changeable.\n",
    "- In python, dictionaries are writted with curly braces {}, they have keys and values\n",
    "\n",
    "#### Syntax\n",
    "\n",
    "###### dict1={key1:value1,key2:value2,key3:value3}"
   ]
  },
  {
   "cell_type": "markdown",
   "metadata": {},
   "source": [
    "#### Creating an empty dictionary"
   ]
  },
  {
   "cell_type": "code",
   "execution_count": null,
   "metadata": {},
   "outputs": [],
   "source": [
    "# 1\n",
    "dict1={}\n",
    "print(dict1)\n",
    "\n",
    "# 2\n",
    "dict1=dict()\n",
    "print(dict)"
   ]
  },
  {
   "cell_type": "code",
   "execution_count": null,
   "metadata": {},
   "outputs": [],
   "source": [
    "type(dict1)"
   ]
  },
  {
   "cell_type": "code",
   "execution_count": null,
   "metadata": {},
   "outputs": [],
   "source": [
    "day={}\n",
    "print(day)\n",
    "type(day)"
   ]
  },
  {
   "cell_type": "code",
   "execution_count": null,
   "metadata": {},
   "outputs": [],
   "source": [
    "day[1]='Monday'\n",
    "day[2]='Tuesday'\n",
    "day[3]='Wednesday'\n",
    "day[5]='Friday'\n",
    "print(day)"
   ]
  },
  {
   "cell_type": "markdown",
   "metadata": {},
   "source": [
    "### Accessing a value from dictionary"
   ]
  },
  {
   "cell_type": "code",
   "execution_count": null,
   "metadata": {},
   "outputs": [],
   "source": [
    "a={'apple':'fruit','beetroot':'vegetable','cake':'dessert','apple':'red','apple':'Helloe'}\n",
    "print(a['apple'])"
   ]
  },
  {
   "cell_type": "markdown",
   "metadata": {},
   "source": [
    "### Updating the value of an Existing key"
   ]
  },
  {
   "cell_type": "code",
   "execution_count": null,
   "metadata": {},
   "outputs": [],
   "source": [
    "dict1={1:1,2:4,3:9,4:16}\n",
    "print('Before Updation',dict1)\n",
    "\n",
    "# Update\n",
    "dict1[4]='four'\n",
    "print('After Updation',dict1)"
   ]
  },
  {
   "cell_type": "markdown",
   "metadata": {},
   "source": [
    "### Addding a new key"
   ]
  },
  {
   "cell_type": "code",
   "execution_count": null,
   "metadata": {},
   "outputs": [],
   "source": [
    "day"
   ]
  },
  {
   "cell_type": "code",
   "execution_count": null,
   "metadata": {},
   "outputs": [],
   "source": [
    "day[4]='Thursday'\n",
    "print(day)"
   ]
  },
  {
   "cell_type": "markdown",
   "metadata": {},
   "source": [
    "### Delete Python Dictionary"
   ]
  },
  {
   "cell_type": "markdown",
   "metadata": {},
   "source": [
    "#### Deleting a singly key-value pair"
   ]
  },
  {
   "cell_type": "markdown",
   "metadata": {},
   "source": [
    "- To delete just one key-value pair, use the keyword 'del' and pass the key"
   ]
  },
  {
   "cell_type": "code",
   "execution_count": null,
   "metadata": {},
   "outputs": [],
   "source": [
    "del day[4]"
   ]
  },
  {
   "cell_type": "code",
   "execution_count": null,
   "metadata": {},
   "outputs": [],
   "source": [
    "day"
   ]
  },
  {
   "cell_type": "markdown",
   "metadata": {},
   "source": [
    "### Method Description"
   ]
  },
  {
   "cell_type": "markdown",
   "metadata": {},
   "source": [
    "## 1. Clear()\n",
    "\n",
    "- Remove all elements of dictionary"
   ]
  },
  {
   "cell_type": "code",
   "execution_count": null,
   "metadata": {},
   "outputs": [],
   "source": [
    "dict1={'Name':'Shashank','Age':27,'City':'New Delhi','Contact':[12345,67891]}\n",
    "print('Before Clear',dict1)\n",
    "dict1.clear()\n",
    "print(\"After Clear\",dict1)"
   ]
  },
  {
   "cell_type": "markdown",
   "metadata": {},
   "source": [
    "### 2. Copy()\n",
    "\n",
    "- Returns a copy of the dictionary\n"
   ]
  },
  {
   "cell_type": "code",
   "execution_count": null,
   "metadata": {},
   "outputs": [],
   "source": [
    "dict1={'Name':'Shashank','Age':27,'City':'New Delhi','Contact':[12345,67891]}\n",
    "dict2=dict1.copy()\n",
    "print(dict1)\n",
    "print(dict2)"
   ]
  },
  {
   "cell_type": "markdown",
   "metadata": {},
   "source": [
    "### 3. Get()\n",
    "\n",
    "- Returns values of default if key is not present in dictionary"
   ]
  },
  {
   "cell_type": "code",
   "execution_count": null,
   "metadata": {},
   "outputs": [],
   "source": [
    "dict1={'Name':'Shashank','Age':27,'City':'New Delhi','Contact':[12345,67891]}\n",
    "print(dict1.get('Name'))\n",
    "print(dict1.get('Country'))"
   ]
  },
  {
   "cell_type": "code",
   "execution_count": null,
   "metadata": {},
   "outputs": [],
   "source": [
    "dict1={'Name':'Shashank','Age':27,'City':'New Delhi','Contact':[12345,67891]}\n",
    "dict1['Country']"
   ]
  },
  {
   "cell_type": "markdown",
   "metadata": {},
   "source": [
    "#### 4. Items()\n",
    "\n",
    "- Returns a lsift of dict's (key:value) tuple pairs"
   ]
  },
  {
   "cell_type": "code",
   "execution_count": null,
   "metadata": {},
   "outputs": [],
   "source": [
    "dict1={'Name':'Shashank','Age':27,'City':'New Delhi','Contact':[12345,67891]}\n",
    "print(dict1.items())"
   ]
  },
  {
   "cell_type": "markdown",
   "metadata": {},
   "source": [
    "### 5. Keys()\n",
    "\n",
    "- Returns the keys in the dictionary"
   ]
  },
  {
   "cell_type": "code",
   "execution_count": null,
   "metadata": {},
   "outputs": [],
   "source": [
    "print(dict1.keys())"
   ]
  },
  {
   "cell_type": "markdown",
   "metadata": {},
   "source": [
    "### 6. Values()\n",
    "\n",
    "- Returns the values in the dictionary"
   ]
  },
  {
   "cell_type": "code",
   "execution_count": null,
   "metadata": {},
   "outputs": [],
   "source": [
    "print(dict1.values())"
   ]
  },
  {
   "cell_type": "markdown",
   "metadata": {},
   "source": [
    "### &. Update()\n",
    "\n",
    "- Adding dictionary dict2's key:value pair to dict1"
   ]
  },
  {
   "cell_type": "code",
   "execution_count": null,
   "metadata": {},
   "outputs": [],
   "source": [
    "dict1={1:1,2:4,3:9}\n",
    "dict2={4:16,5:25,6:36,7:49}\n",
    "dict1.update(dict2)\n",
    "print(dict1)"
   ]
  },
  {
   "cell_type": "markdown",
   "metadata": {},
   "source": [
    "### Dictionary with List"
   ]
  },
  {
   "cell_type": "code",
   "execution_count": null,
   "metadata": {},
   "outputs": [],
   "source": [
    "dict1={'Key1':[1,2,3],'Key2':[4,5,6],'Key3':[7,8,9],'Key4':[1,2,3]}\n",
    "print(dict1['Key1'])\n",
    "print(dict1)"
   ]
  },
  {
   "cell_type": "code",
   "execution_count": null,
   "metadata": {},
   "outputs": [],
   "source": [
    "dict1={1:[4,5,6],2:['a',1,'c']}\n",
    "print(dict1.keys())"
   ]
  },
  {
   "cell_type": "code",
   "execution_count": null,
   "metadata": {},
   "outputs": [],
   "source": [
    "- List - Mutable\n",
    "- Key in dictionary immutable "
   ]
  },
  {
   "cell_type": "code",
   "execution_count": null,
   "metadata": {},
   "outputs": [],
   "source": [
    "dict1={1:1,2:4,3:9}\n",
    "dict2={4:16,5:25,6:26}\n",
    "l=[]\n",
    "l.append(dict1)\n",
    "l.append(dict2)\n",
    "print(l)\n",
    "x=tuple(l)\n",
    "print(x)"
   ]
  },
  {
   "cell_type": "code",
   "execution_count": null,
   "metadata": {},
   "outputs": [],
   "source": [
    "l[0]\n",
    "l[1]"
   ]
  },
  {
   "cell_type": "markdown",
   "metadata": {},
   "source": [
    "## Dictionary with Tuple"
   ]
  },
  {
   "cell_type": "code",
   "execution_count": null,
   "metadata": {},
   "outputs": [],
   "source": [
    "dict1={'key1':(1,2,3),'key2':(4,5,6),'key3':(7,8,9)}\n",
    "print(dict1)"
   ]
  },
  {
   "cell_type": "code",
   "execution_count": null,
   "metadata": {},
   "outputs": [],
   "source": [
    "dict1['key1']"
   ]
  },
  {
   "cell_type": "code",
   "execution_count": null,
   "metadata": {},
   "outputs": [],
   "source": [
    "dict1={1:1,2:4,3:9}\n",
    "dict2={4:16,5:25,6:26}\n",
    "l=[]\n",
    "l.append(dict1)\n",
    "l.append(dict2)\n",
    "print(l)\n",
    "x=tuple(l)\n",
    "print(x)"
   ]
  },
  {
   "cell_type": "code",
   "execution_count": null,
   "metadata": {},
   "outputs": [],
   "source": [
    "x[1]"
   ]
  },
  {
   "cell_type": "code",
   "execution_count": null,
   "metadata": {},
   "outputs": [],
   "source": []
  }
 ],
 "metadata": {
  "kernelspec": {
   "display_name": "Python 3 (ipykernel)",
   "language": "python",
   "name": "python3"
  },
  "language_info": {
   "codemirror_mode": {
    "name": "ipython",
    "version": 3
   },
   "file_extension": ".py",
   "mimetype": "text/x-python",
   "name": "python",
   "nbconvert_exporter": "python",
   "pygments_lexer": "ipython3",
   "version": "3.7.4"
  }
 },
 "nbformat": 4,
 "nbformat_minor": 4
}
