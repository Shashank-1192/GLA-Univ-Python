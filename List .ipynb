{
 "cells": [
  {
   "cell_type": "markdown",
   "metadata": {},
   "source": [
    "## List"
   ]
  },
  {
   "cell_type": "markdown",
   "metadata": {},
   "source": [
    "- A list is a value that contains multiple values in an ordered sequence. \n",
    "- The list begins with opening square bracket and ends with a closed square bracket. []\n",
    "- List = ['cat','bat','rat']"
   ]
  },
  {
   "cell_type": "markdown",
   "metadata": {},
   "source": [
    "## Creating an empty list"
   ]
  },
  {
   "cell_type": "code",
   "execution_count": null,
   "metadata": {},
   "outputs": [],
   "source": [
    "# Sample 1 \n",
    "list=[]\n",
    "print(list)"
   ]
  },
  {
   "cell_type": "code",
   "execution_count": null,
   "metadata": {},
   "outputs": [],
   "source": [
    "type(list)"
   ]
  },
  {
   "cell_type": "code",
   "execution_count": null,
   "metadata": {},
   "outputs": [],
   "source": [
    "print(dir())"
   ]
  },
  {
   "cell_type": "code",
   "execution_count": null,
   "metadata": {},
   "outputs": [],
   "source": [
    "del list"
   ]
  },
  {
   "cell_type": "code",
   "execution_count": null,
   "metadata": {},
   "outputs": [],
   "source": [
    "# Sample 2\n",
    "name_of_list=list()\n",
    "print(name_of_list)"
   ]
  },
  {
   "cell_type": "markdown",
   "metadata": {},
   "source": [
    "### Creating a non-empty list"
   ]
  },
  {
   "cell_type": "code",
   "execution_count": null,
   "metadata": {},
   "outputs": [],
   "source": [
    "## odd number\n",
    "odd_number=[1,3,5,7,9,11]\n",
    "odd_number"
   ]
  },
  {
   "cell_type": "code",
   "execution_count": null,
   "metadata": {},
   "outputs": [],
   "source": [
    "# Colors\n",
    "colors=['black','blue','red']\n",
    "colors"
   ]
  },
  {
   "cell_type": "markdown",
   "metadata": {},
   "source": [
    "### Accessing an element of a list"
   ]
  },
  {
   "cell_type": "code",
   "execution_count": null,
   "metadata": {},
   "outputs": [],
   "source": [
    "# Colors\n",
    "colors=['black','blue','red','yellow','green','black']\n",
    "print(colors)\n",
    "print(colors[2])\n",
    "print(colors[4])"
   ]
  },
  {
   "cell_type": "markdown",
   "metadata": {},
   "source": [
    "### Slicing a Python List"
   ]
  },
  {
   "cell_type": "code",
   "execution_count": null,
   "metadata": {},
   "outputs": [],
   "source": [
    "# Colors\n",
    "colors=['black','blue','red','yellow','green']\n",
    "colors[0:3]"
   ]
  },
  {
   "cell_type": "markdown",
   "metadata": {},
   "source": [
    "### Negative Indexing"
   ]
  },
  {
   "cell_type": "code",
   "execution_count": null,
   "metadata": {},
   "outputs": [],
   "source": [
    "# Colors\n",
    "colors=['black','blue','red','yellow','green','black']\n",
    "colors[-4]"
   ]
  },
  {
   "cell_type": "markdown",
   "metadata": {},
   "source": [
    "### Reassigning List Value"
   ]
  },
  {
   "cell_type": "code",
   "execution_count": null,
   "metadata": {},
   "outputs": [],
   "source": [
    "print('Before Updating',colors)\n",
    "colors[1]='white'\n",
    "print('After updating',colors)"
   ]
  },
  {
   "cell_type": "markdown",
   "metadata": {},
   "source": [
    "## Deletion of an element"
   ]
  },
  {
   "cell_type": "code",
   "execution_count": null,
   "metadata": {},
   "outputs": [],
   "source": [
    "print(colors)\n",
    "del colors[1]\n",
    "print(colors)"
   ]
  },
  {
   "cell_type": "markdown",
   "metadata": {},
   "source": [
    "### Operators used on list"
   ]
  },
  {
   "cell_type": "markdown",
   "metadata": {},
   "source": [
    "- Concatenation\n",
    "- repeatation\n",
    "- Membership"
   ]
  },
  {
   "cell_type": "code",
   "execution_count": null,
   "metadata": {},
   "outputs": [],
   "source": [
    "# Concatenation\n",
    "l1=[1,2,34]\n",
    "l2=['apple','mango']\n",
    "l3=l1+l2\n",
    "print(l3)\n",
    "\n",
    "# Repeatation\n",
    "l4=[1,2]\n",
    "l5=l4*2\n",
    "print(l5)\n",
    "\n",
    "# Membership\n",
    "l6=[1,2,3,4,5,6,7]\n",
    "6 in l6"
   ]
  },
  {
   "cell_type": "markdown",
   "metadata": {},
   "source": [
    "### Built-In Functions"
   ]
  },
  {
   "cell_type": "markdown",
   "metadata": {},
   "source": [
    "- len()\n",
    "- max()\n",
    "- min()\n",
    "- sum()"
   ]
  },
  {
   "cell_type": "code",
   "execution_count": null,
   "metadata": {},
   "outputs": [],
   "source": [
    "list1=[1,2,3,4,5,6,7,8,9,10,11,12.7]\n",
    "print('Length Of List is',len(list1))\n",
    "print('Maximum List is',max(list1))\n",
    "print('Minimum Of List is',min(list1))\n",
    "print('Sum Of List is',sum(list1))"
   ]
  },
  {
   "cell_type": "markdown",
   "metadata": {},
   "source": [
    "### Nested List"
   ]
  },
  {
   "cell_type": "code",
   "execution_count": null,
   "metadata": {},
   "outputs": [],
   "source": [
    "nested_list=[[10,20,30],[1,1,1],[2,3,4]]\n",
    "nested_list"
   ]
  },
  {
   "cell_type": "code",
   "execution_count": null,
   "metadata": {},
   "outputs": [],
   "source": [
    "len(nested_list)"
   ]
  },
  {
   "cell_type": "code",
   "execution_count": null,
   "metadata": {},
   "outputs": [],
   "source": [
    "nested_list[1]"
   ]
  },
  {
   "cell_type": "code",
   "execution_count": null,
   "metadata": {},
   "outputs": [],
   "source": [
    "nested_list[0][1]"
   ]
  },
  {
   "cell_type": "code",
   "execution_count": null,
   "metadata": {},
   "outputs": [],
   "source": [
    "nest=[1,2,3,4,5,['apple','mango',[1,2,3,4,5],'cherry'],6,7,8,['ds','coa','dstl',['sv','pr','sl']],['i20','i10','city']]"
   ]
  },
  {
   "cell_type": "code",
   "execution_count": null,
   "metadata": {},
   "outputs": [],
   "source": [
    "print(nest)"
   ]
  },
  {
   "cell_type": "code",
   "execution_count": null,
   "metadata": {},
   "outputs": [],
   "source": [
    "nest[5][3]"
   ]
  },
  {
   "cell_type": "code",
   "execution_count": null,
   "metadata": {},
   "outputs": [],
   "source": [
    "nest[9][3][2]"
   ]
  },
  {
   "cell_type": "markdown",
   "metadata": {},
   "source": [
    "## For loop with list"
   ]
  },
  {
   "cell_type": "code",
   "execution_count": null,
   "metadata": {},
   "outputs": [],
   "source": [
    "# Values\n",
    "\n",
    "colors=['black','blue','red','yellow','green']\n",
    "for color in colors:\n",
    "    print(color,end=\"@\")\n",
    "\n",
    "#print(colors)"
   ]
  },
  {
   "cell_type": "code",
   "execution_count": null,
   "metadata": {},
   "outputs": [],
   "source": [
    "# Index\n",
    "\n",
    "colors=['black','blue','red','yellow','green']\n",
    "for i in range(len(colors)):\n",
    "    print(colors[i],end=\" \")\n",
    "\n",
    "#print(colors)"
   ]
  },
  {
   "cell_type": "markdown",
   "metadata": {},
   "source": [
    "## Assignment "
   ]
  },
  {
   "cell_type": "markdown",
   "metadata": {},
   "source": [
    "#### 1. Take 10 integer inputs from the user and print them. Again ask user to give a number. Now, tell user whether the number is present or not"
   ]
  },
  {
   "cell_type": "markdown",
   "metadata": {},
   "source": [
    "#### 2. Write a python program to check if elements of a list are same or not if read from front and back \n",
    "\n",
    "#### Ex. 2 3 15 15 3 2"
   ]
  },
  {
   "cell_type": "markdown",
   "metadata": {},
   "source": [
    "#### 3. Take 20 integer inputs from the user and print them.\n",
    "\n",
    "#### a. Number of positive integers\n",
    "#### b. Number of negative integers\n",
    "#### c. Number of odd integers\n",
    "#### d. Number of even integers\n",
    "#### e. Number of 0s\n"
   ]
  },
  {
   "cell_type": "code",
   "execution_count": null,
   "metadata": {},
   "outputs": [],
   "source": [
    "## 1\n",
    "\n",
    "i=10\n",
    "a=[]\n",
    "while i>0:\n",
    "    num=int(input('Enter the Numbers : '))\n",
    "    a.append(num)\n",
    "    i-=1\n",
    "    print(a)\n",
    "n=int(input('Enter the element to be searched : '))\n",
    "i=9\n",
    "count=0\n",
    "while i>0:\n",
    "    if a[i]==n:\n",
    "        print('Number is found')\n",
    "        count+=1\n",
    "    i-=1\n",
    "if count==0:\n",
    "    print('Number is not found')\n",
    "        \n",
    "\n"
   ]
  },
  {
   "cell_type": "code",
   "execution_count": null,
   "metadata": {},
   "outputs": [],
   "source": [
    "## 2\n",
    "\n",
    "a=[1,2,3,3,2,1]\n",
    "i=0\n",
    "mid=(len(a)//2)\n",
    "flag=True\n",
    "while i<mid:                       #1<3\n",
    "    if a[i]!=a[len(a)-i-1]:        # a[1]!=a[6-1-1]    #a[1]!=a[4]  #2!=2\n",
    "        print('Not same')\n",
    "        flag=False\n",
    "        break\n",
    "    i+=1\n",
    "if flag==True:\n",
    "    print('Yes same')"
   ]
  },
  {
   "cell_type": "code",
   "execution_count": null,
   "metadata": {},
   "outputs": [],
   "source": [
    "## 3\n",
    "\n",
    "i=8\n",
    "a=[]\n",
    "while i>0:\n",
    "    num=int(input('Enter the Number : '))\n",
    "    a.append(num)\n",
    "    i=i-1\n",
    "print(a)\n",
    "i=7\n",
    "zero=0\n",
    "positive=0\n",
    "negative=0\n",
    "even=0\n",
    "odd=0\n",
    "while i>=0:\n",
    "    if a[i]==0:\n",
    "        zero=zero+1\n",
    "    elif a[i]>0:\n",
    "        positive+=1\n",
    "        if a[i]%2==0:\n",
    "            even+=1\n",
    "        else:\n",
    "            odd+=1\n",
    "    else:\n",
    "        negative+=1\n",
    "        if a[i]%2==0:\n",
    "            even+=1\n",
    "        else:\n",
    "            odd+=1\n",
    "    i=i-1\n",
    "print(\"Zero\",zero)\n",
    "print(\"Positive\",positive)\n",
    "print(\"Negative\",negative)\n",
    "print(\"Even\",even)\n",
    "print(\"Odd\",odd)"
   ]
  },
  {
   "cell_type": "markdown",
   "metadata": {},
   "source": [
    "### Common List Methods"
   ]
  },
  {
   "cell_type": "code",
   "execution_count": 1,
   "metadata": {},
   "outputs": [
    {
     "name": "stdout",
     "output_type": "stream",
     "text": [
      "[12, 34, 56, 78, 89, 'apple']\n"
     ]
    }
   ],
   "source": [
    "# append()\n",
    "list1=[12,34,56,78,89]\n",
    "list1.append('apple')\n",
    "print(list1)"
   ]
  },
  {
   "cell_type": "code",
   "execution_count": 2,
   "metadata": {},
   "outputs": [
    {
     "name": "stdout",
     "output_type": "stream",
     "text": [
      "[12, 34, 'mango', 56, 78, 89, 'apple']\n"
     ]
    }
   ],
   "source": [
    "# insert()\n",
    "list1.insert(2,'mango')\n",
    "print(list1)"
   ]
  },
  {
   "cell_type": "code",
   "execution_count": 3,
   "metadata": {},
   "outputs": [],
   "source": [
    "# remove()\n",
    "list1.remove(34)"
   ]
  },
  {
   "cell_type": "code",
   "execution_count": 4,
   "metadata": {},
   "outputs": [
    {
     "name": "stdout",
     "output_type": "stream",
     "text": [
      "[12, 'mango', 56, 78, 89, 'apple']\n"
     ]
    }
   ],
   "source": [
    "print(list1)"
   ]
  },
  {
   "cell_type": "code",
   "execution_count": 7,
   "metadata": {},
   "outputs": [
    {
     "data": {
      "text/plain": [
       "12"
      ]
     },
     "execution_count": 7,
     "metadata": {},
     "output_type": "execute_result"
    }
   ],
   "source": [
    "# pop()\n",
    "list1.pop(0)\n"
   ]
  },
  {
   "cell_type": "code",
   "execution_count": 8,
   "metadata": {},
   "outputs": [
    {
     "name": "stdout",
     "output_type": "stream",
     "text": [
      "['mango', 56, 78, 89, 'apple']\n"
     ]
    }
   ],
   "source": [
    "print(list1)"
   ]
  },
  {
   "cell_type": "code",
   "execution_count": 9,
   "metadata": {},
   "outputs": [
    {
     "data": {
      "text/plain": [
       "89"
      ]
     },
     "execution_count": 9,
     "metadata": {},
     "output_type": "execute_result"
    }
   ],
   "source": [
    "list1.pop(3)"
   ]
  },
  {
   "cell_type": "code",
   "execution_count": null,
   "metadata": {},
   "outputs": [],
   "source": [
    "list1\n"
   ]
  },
  {
   "cell_type": "code",
   "execution_count": null,
   "metadata": {},
   "outputs": [],
   "source": [
    "# count()\n",
    "\n",
    "l=[1,2,3,4,2,3,5,6,7,2,3,42,2,2,2,5,6,7,8,7,8]\n",
    "l.count(2)"
   ]
  },
  {
   "cell_type": "code",
   "execution_count": null,
   "metadata": {},
   "outputs": [],
   "source": [
    "# index()\n",
    "l.index(5)"
   ]
  },
  {
   "cell_type": "code",
   "execution_count": null,
   "metadata": {},
   "outputs": [],
   "source": [
    "# reverse()\n",
    "print(l)\n",
    "l.reverse()\n",
    "print(l)"
   ]
  },
  {
   "cell_type": "code",
   "execution_count": null,
   "metadata": {},
   "outputs": [],
   "source": [
    "# clear()\n",
    "l.clear()"
   ]
  },
  {
   "cell_type": "code",
   "execution_count": null,
   "metadata": {},
   "outputs": [],
   "source": [
    "print(l)"
   ]
  },
  {
   "cell_type": "code",
   "execution_count": null,
   "metadata": {},
   "outputs": [],
   "source": [
    "## Sort()\n",
    "l=[1,2,5,7,2,5,9,0,1,3,4]\n",
    "l.sort()\n",
    "print(l)"
   ]
  },
  {
   "cell_type": "code",
   "execution_count": null,
   "metadata": {},
   "outputs": [],
   "source": [
    "l.reverse()"
   ]
  },
  {
   "cell_type": "code",
   "execution_count": null,
   "metadata": {},
   "outputs": [],
   "source": [
    "l"
   ]
  },
  {
   "cell_type": "code",
   "execution_count": null,
   "metadata": {},
   "outputs": [],
   "source": []
  },
  {
   "cell_type": "markdown",
   "metadata": {},
   "source": [
    "### List Comprehension"
   ]
  },
  {
   "cell_type": "markdown",
   "metadata": {},
   "source": [
    "- List Comprehension is an elegant and consice way to create a new list from an existing list.\n",
    "\n",
    "#### Syntax\n",
    "\n",
    "- variable_name=[output_exp for var in input_list if(condition)]"
   ]
  },
  {
   "cell_type": "code",
   "execution_count": null,
   "metadata": {},
   "outputs": [],
   "source": [
    "## 1 : Output=[1,2,4,8,16,32,64,128,256,512,1024]\n",
    "\n",
    "pow=[2**x for x in range(11)]\n",
    "pow"
   ]
  },
  {
   "cell_type": "code",
   "execution_count": null,
   "metadata": {},
   "outputs": [],
   "source": [
    "pow=[]\n",
    "for x in range(11):\n",
    "    pow.append(2**x)\n",
    "print(pow,end=\" \")"
   ]
  },
  {
   "cell_type": "code",
   "execution_count": null,
   "metadata": {},
   "outputs": [],
   "source": [
    "## 2 : Output=[1,3,5,7,9]\n",
    "\n",
    "l=[1,2,3,4,5,6,7,8,9,10]\n",
    "odd=[x for x in l if x%2==1 ]\n",
    "print(odd)"
   ]
  },
  {
   "cell_type": "markdown",
   "metadata": {},
   "source": [
    "### Assignment \n",
    "\n",
    "##### 1. Take 10 integer inputs from user and store them in a list. Now, copy all the elements in another list but in reverse order"
   ]
  },
  {
   "cell_type": "markdown",
   "metadata": {},
   "source": [
    "##### 2. Take a list of length n where all the numbers are non-negative and unique. Find the element in the list possessing the highest value. Split the element into two parts where first part contains the next highest value in the list and second part hold the required additive entity to get the highest value. Print the list where the highest value get splitted into those two parts.\n",
    "Sample input: 4 8 6 3 2\n",
    "Sample output: 4 6 2 6 3 2\n"
   ]
  },
  {
   "cell_type": "code",
   "execution_count": null,
   "metadata": {},
   "outputs": [],
   "source": [
    "a=[4,8,6,3,2]\n",
    "maxi=a[0]   #4\n",
    "i=0\n",
    "while i<len(a):\n",
    "    if a[i]>maxi:    #2>8\n",
    "        maxi=a[i]     #maxi=8\n",
    "        max_index=i     #max_index=1\n",
    "    i+=1\n",
    "print(\"Maximum Element : \",maxi)   #8\n",
    "print('Index of Max Element ',max_index)    #1\n",
    "sec_max=a[0]      #4\n",
    "i=0\n",
    "while i<len(a):\n",
    "    if a[i]!=maxi and sec_max<a[i]:    #2!=8 and 6<2\n",
    "        sec_max=a[i]     #6\n",
    "    i+=1\n",
    "print('Second Largest Element', sec_max)\n",
    "diff=maxi-sec_max\n",
    "print('Additive Element', diff)\n",
    "print('New List', a[:max_index]+[sec_max,diff]+a[max_index+1:])\n",
    "\n"
   ]
  },
  {
   "cell_type": "code",
   "execution_count": null,
   "metadata": {},
   "outputs": [],
   "source": [
    "list1=[]\n",
    "for i in range(11):\n",
    "    list1.append(i**2)\n",
    "print(list1)"
   ]
  },
  {
   "cell_type": "code",
   "execution_count": null,
   "metadata": {},
   "outputs": [],
   "source": [
    "list2=[i**2 for i in range(11)]\n",
    "print(list2)"
   ]
  },
  {
   "cell_type": "code",
   "execution_count": null,
   "metadata": {},
   "outputs": [],
   "source": [
    "number=[1,2,3,4,5,6,7,8,9,10,11]\n",
    "for i in number:\n",
    "    if i%2==1:\n",
    "        print(i,end=\" \")"
   ]
  },
  {
   "cell_type": "code",
   "execution_count": null,
   "metadata": {},
   "outputs": [],
   "source": [
    "number1=[x for x in range(11) if x%2==1]"
   ]
  },
  {
   "cell_type": "code",
   "execution_count": null,
   "metadata": {},
   "outputs": [],
   "source": [
    "number1"
   ]
  },
  {
   "cell_type": "code",
   "execution_count": null,
   "metadata": {},
   "outputs": [],
   "source": [
    "a=[4,8,6,3,2]\n",
    "maxi=a[0]   #4\n",
    "i=0\n",
    "while i<len(a):\n",
    "    if a[i]>maxi:    #2>8\n",
    "        maxi=a[i]     #maxi=8\n",
    "        max_index=i     #max_index=1\n",
    "    i+=1\n",
    "print(\"Maximum Element : \",maxi)   #8\n",
    "print('Index of Max Element ',max_index)    #1\n",
    "sec_max=a[0]      #4\n",
    "i=0\n",
    "while i<len(a):\n",
    "    if a[i]!=maxi and sec_max<a[i]:    #2!=8 and 6<2\n",
    "        sec_max=a[i]     #6\n",
    "    i+=1\n",
    "print('Second Largest Element', sec_max)\n",
    "diff=maxi-sec_max\n",
    "print('Additive Element', diff)\n",
    "print('New List', a[:max_index]+[sec_max,diff]+a[max_index+1:])"
   ]
  },
  {
   "cell_type": "markdown",
   "metadata": {},
   "source": [
    "## 4 8 6 3 2\n",
    "\n",
    "### 4 6 2 6 3 2"
   ]
  },
  {
   "cell_type": "code",
   "execution_count": null,
   "metadata": {},
   "outputs": [],
   "source": [
    "a=[4,8,6,3,2]\n",
    "max=a[0]\n",
    "i=0\n",
    "while i<len(a):\n",
    "    if a[i]>max:\n",
    "        max=a[i]\n",
    "        max_index=i\n",
    "    i+=1\n",
    "print('Maximum Element',max)\n",
    "print('Index of Maximum Element',max_index)\n",
    "\n",
    "sec_max=a[0]\n",
    "i=0\n",
    "while i<len(a):\n",
    "    if a[i]!=max "
   ]
  },
  {
   "cell_type": "code",
   "execution_count": null,
   "metadata": {},
   "outputs": [],
   "source": []
  }
 ],
 "metadata": {
  "kernelspec": {
   "display_name": "Python 3 (ipykernel)",
   "language": "python",
   "name": "python3"
  },
  "language_info": {
   "codemirror_mode": {
    "name": "ipython",
    "version": 3
   },
   "file_extension": ".py",
   "mimetype": "text/x-python",
   "name": "python",
   "nbconvert_exporter": "python",
   "pygments_lexer": "ipython3",
   "version": "3.7.4"
  }
 },
 "nbformat": 4,
 "nbformat_minor": 4
}
